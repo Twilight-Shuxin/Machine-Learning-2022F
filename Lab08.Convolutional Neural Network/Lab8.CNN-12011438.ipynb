{
 "cells": [
  {
   "cell_type": "code",
   "execution_count": 1,
   "id": "e465a50d",
   "metadata": {},
   "outputs": [],
   "source": [
    "import warnings\n",
    "warnings.filterwarnings(\"ignore\") \n",
    "# CUSTOMARY IMPORTS\n",
    "import torch\n",
    "import torchvision\n",
    "from  torchvision import transforms\n",
    "import matplotlib.pyplot as plt\n",
    "import numpy as np\n",
    "\n",
    "\n",
    "%matplotlib inline\n",
    "\n",
    "# TRAINING HYPERPARAMETERS: \n",
    "n_epochs = 5           # How many passes through the training data  \n",
    "batch_size = 64  # Training batch size usually in [1,256]\n",
    "\n",
    "learning_rate = 0.01   # Learning rate for optimizer like SGD usually in [0.001, 0.1]\n",
    "\n",
    "random_seed = 1  \n",
    "\n",
    "torch.manual_seed(random_seed)\n",
    "\n",
    "device = torch.device(\"cuda:0\" if torch.cuda.is_available() else \"cpu\")"
   ]
  },
  {
   "cell_type": "code",
   "execution_count": 2,
   "id": "9e9d3294",
   "metadata": {},
   "outputs": [
    {
     "name": "stdout",
     "output_type": "stream",
     "text": [
      "Files already downloaded and verified\n",
      "Files already downloaded and verified\n"
     ]
    }
   ],
   "source": [
    "transform_train = transforms.Compose([\n",
    "    transforms.RandomCrop(32, padding=4),\n",
    "    transforms.RandomHorizontalFlip(),\n",
    "    transforms.ToTensor(),\n",
    "    transforms.Normalize((0.4914, 0.4822, 0.4465), (0.2023, 0.1994, 0.2010)),\n",
    "])\n",
    "\n",
    "\n",
    "transform_test = transforms.Compose([\n",
    "    transforms.ToTensor(),\n",
    "    transforms.Normalize((0.4914, 0.4822, 0.4465), (0.2023, 0.1994, 0.2010)),\n",
    "])\n",
    "\n",
    "trainset = torchvision.datasets.CIFAR10(\n",
    "    root='./dataset', train=True, download=True, transform=transform_train)\n",
    "trainloader = torch.utils.data.DataLoader(\n",
    "    trainset, batch_size=batch_size, shuffle=True)\n",
    "\n",
    "testset = torchvision.datasets.CIFAR10(\n",
    "    root='./dataset', train=False, download=True, transform=transform_test)\n",
    "testloader = torch.utils.data.DataLoader(\n",
    "    testset, batch_size=batch_size, shuffle=False)\n",
    "\n",
    "classes = ('plane', 'car', 'bird', 'cat', 'deer',\n",
    "           'dog', 'frog', 'horse', 'ship', 'truck')"
   ]
  },
  {
   "cell_type": "code",
   "execution_count": 3,
   "id": "23c4bb79",
   "metadata": {},
   "outputs": [],
   "source": [
    "import torch.nn as nn\n",
    "import torch.optim as optim\n",
    "import torch.nn.functional as F\n",
    "import torch.backends.cudnn as cudnn"
   ]
  },
  {
   "cell_type": "code",
   "execution_count": 4,
   "id": "424879f3",
   "metadata": {},
   "outputs": [],
   "source": [
    "class Depthwise_Conv(nn.Module):\n",
    "    def __init__(self, in_planes, kernel_size=3, stride=1, padding=1, bias=False):\n",
    "        super(Depthwise_Conv, self).__init__()\n",
    "        self.conv = nn.Sequential(\n",
    "            nn.Conv2d(in_planes, in_planes, kernel_size=kernel_size, stride=stride, \\\n",
    "                      padding=padding, groups=in_planes, bias=bias),\n",
    "            nn.BatchNorm2d(in_planes),\n",
    "            nn.ReLU(inplace=True)\n",
    "        )\n",
    "    def forward(self, x):\n",
    "        out = self.conv(x)\n",
    "        return out\n",
    "\n",
    "class Pointwise_Conv(nn.Module):\n",
    "    def __init__(self, in_planes, out_planes, kernel_size=1, padding=0, bias=False):\n",
    "        super(Pointwise_Conv, self).__init__()\n",
    "        self.conv = nn.Sequential(\n",
    "            nn.Conv2d(in_planes, out_planes, kernel_size=kernel_size, padding=padding, bias=bias),\n",
    "            nn.BatchNorm2d(out_planes),\n",
    "            nn.ReLU(inplace=True)\n",
    "        )\n",
    "\n",
    "    def forward(self, x):\n",
    "        out = self.conv(x)\n",
    "        return out\n",
    "    \n",
    "class Block(nn.Module):\n",
    "    def __init__(self, in_planes, out_planes, stride=1):\n",
    "        super(Block, self).__init__()\n",
    "        self.conv1 = Depthwise_Conv(in_planes, stride=stride)\n",
    "        self.conv2 = Pointwise_Conv(in_planes, out_planes)\n",
    "\n",
    "    def forward(self, x):\n",
    "        out = self.conv1(x)\n",
    "        out = self.conv2(out)\n",
    "        return out\n",
    "\n",
    "class MobileNet(nn.Module):\n",
    "    net_info = [(64, 1), (128,2), (128, 1), (256,2), (256, 1), (512,2), (512,1), \n",
    "                (512, 1), (512,1), (512,1), (512,1), (1024,2), (1024,1)]\n",
    "\n",
    "    def __init__(self, in_planes, out_planes):\n",
    "        super(MobileNet, self).__init__()\n",
    "        self.conv1 = Pointwise_Conv(in_planes, 32, kernel_size=3, padding=1, bias=False);\n",
    "        self.layers = self._make_layers(in_planes=32)\n",
    "        self.linear = nn.Linear(1024, out_planes)\n",
    "\n",
    "    def _make_layers(self, in_planes):\n",
    "        layers = []\n",
    "        for layer_info in self.net_info:\n",
    "            out_planes, stride = layer_info\n",
    "            layers.append(Block(in_planes, out_planes, stride))\n",
    "            in_planes = out_planes\n",
    "        return nn.Sequential(*layers)\n",
    "\n",
    "    def forward(self, x):\n",
    "        out = self.conv1(x)\n",
    "        out = self.layers(out)\n",
    "        out = F.avg_pool2d(out, 2)\n",
    "        out = out.view(out.size(0), -1)\n",
    "        out = self.linear(out)\n",
    "        return out"
   ]
  },
  {
   "cell_type": "code",
   "execution_count": 5,
   "id": "b2c75de4",
   "metadata": {},
   "outputs": [],
   "source": [
    "from tqdm import tqdm\n",
    "\n",
    "in_channel = 3\n",
    "classes = 10\n",
    "net = MobileNet(in_channel, classes).to(device)\n",
    "net.load_state_dict(torch.load(\"ciphar.pth\"))\n",
    "criterion = torch.nn.CrossEntropyLoss()\n",
    "optimizer = optim.SGD(net.parameters(), lr=learning_rate, momentum=0.5)\n",
    "scheduler = torch.optim.lr_scheduler.CosineAnnealingLR(optimizer, T_max=200)\n",
    "\n",
    "def train(epoch):\n",
    "    print('\\nEpoch: %d' % epoch)\n",
    "    net.train(True)\n",
    "    processBar = tqdm(trainloader,unit = 'step')\n",
    "    train_loss = 0\n",
    "    total_correct = 0\n",
    "    total = 0\n",
    "    total_size = 0\n",
    "    for batch_idx, (X_image, y_label) in enumerate(processBar):\n",
    "        X_image, y_label = X_image.to(device), y_label.to(device)\n",
    "        optimizer.zero_grad()\n",
    "        outputs = net(X_image)\n",
    "        loss = criterion(outputs, y_label)\n",
    "        loss.backward()\n",
    "        optimizer.step()\n",
    "\n",
    "        train_loss += loss.item()\n",
    "        total_size += y_label.size(0)\n",
    "        predictions = torch.argmax(outputs, dim = 1)\n",
    "        total = y_label.size(0)\n",
    "        correct = torch.sum(predictions == y_label)\n",
    "        total_correct += correct\n",
    "        processBar.set_description(\"[%d/%d] Loss: %.4f, Acc: %.4f\" % \n",
    "                                    (epoch,n_epochs,loss.item(),100.*correct/total))"
   ]
  },
  {
   "cell_type": "code",
   "execution_count": 9,
   "id": "eed8e40f",
   "metadata": {},
   "outputs": [
    {
     "name": "stdout",
     "output_type": "stream",
     "text": [
      "\n",
      "Epoch: 1\n"
     ]
    },
    {
     "name": "stderr",
     "output_type": "stream",
     "text": [
      "[1/20] Loss: 0.0480, Acc: 100.0000: 100%|███████████████████████████████████████████████████| 782/782 [00:30<00:00, 26.02step/s]\n"
     ]
    },
    {
     "name": "stdout",
     "output_type": "stream",
     "text": [
      "\n",
      "Epoch: 2\n"
     ]
    },
    {
     "name": "stderr",
     "output_type": "stream",
     "text": [
      "[2/20] Loss: 0.0217, Acc: 100.0000: 100%|███████████████████████████████████████████████████| 782/782 [00:30<00:00, 25.95step/s]\n"
     ]
    },
    {
     "name": "stdout",
     "output_type": "stream",
     "text": [
      "\n",
      "Epoch: 3\n"
     ]
    },
    {
     "name": "stderr",
     "output_type": "stream",
     "text": [
      "[3/20] Loss: 0.3465, Acc: 81.2500: 100%|████████████████████████████████████████████████████| 782/782 [00:29<00:00, 26.10step/s]\n"
     ]
    },
    {
     "name": "stdout",
     "output_type": "stream",
     "text": [
      "\n",
      "Epoch: 4\n"
     ]
    },
    {
     "name": "stderr",
     "output_type": "stream",
     "text": [
      "[4/20] Loss: 0.0775, Acc: 100.0000: 100%|███████████████████████████████████████████████████| 782/782 [00:30<00:00, 25.90step/s]\n"
     ]
    },
    {
     "name": "stdout",
     "output_type": "stream",
     "text": [
      "\n",
      "Epoch: 5\n"
     ]
    },
    {
     "name": "stderr",
     "output_type": "stream",
     "text": [
      "[5/20] Loss: 0.0115, Acc: 100.0000: 100%|███████████████████████████████████████████████████| 782/782 [00:30<00:00, 25.88step/s]\n"
     ]
    },
    {
     "name": "stdout",
     "output_type": "stream",
     "text": [
      "\n",
      "Epoch: 6\n"
     ]
    },
    {
     "name": "stderr",
     "output_type": "stream",
     "text": [
      "[6/20] Loss: 0.2461, Acc: 81.2500: 100%|████████████████████████████████████████████████████| 782/782 [00:30<00:00, 26.05step/s]\n"
     ]
    },
    {
     "name": "stdout",
     "output_type": "stream",
     "text": [
      "\n",
      "Epoch: 7\n"
     ]
    },
    {
     "name": "stderr",
     "output_type": "stream",
     "text": [
      "[7/20] Loss: 0.2692, Acc: 93.7500: 100%|████████████████████████████████████████████████████| 782/782 [00:30<00:00, 25.70step/s]\n"
     ]
    },
    {
     "name": "stdout",
     "output_type": "stream",
     "text": [
      "\n",
      "Epoch: 8\n"
     ]
    },
    {
     "name": "stderr",
     "output_type": "stream",
     "text": [
      "[8/20] Loss: 0.0088, Acc: 100.0000: 100%|███████████████████████████████████████████████████| 782/782 [00:30<00:00, 25.67step/s]\n"
     ]
    },
    {
     "name": "stdout",
     "output_type": "stream",
     "text": [
      "\n",
      "Epoch: 9\n"
     ]
    },
    {
     "name": "stderr",
     "output_type": "stream",
     "text": [
      "[9/20] Loss: 0.4674, Acc: 87.5000: 100%|████████████████████████████████████████████████████| 782/782 [00:30<00:00, 25.53step/s]\n"
     ]
    },
    {
     "name": "stdout",
     "output_type": "stream",
     "text": [
      "\n",
      "Epoch: 10\n"
     ]
    },
    {
     "name": "stderr",
     "output_type": "stream",
     "text": [
      "[10/20] Loss: 0.4570, Acc: 87.5000: 100%|███████████████████████████████████████████████████| 782/782 [00:30<00:00, 25.89step/s]\n"
     ]
    },
    {
     "name": "stdout",
     "output_type": "stream",
     "text": [
      "\n",
      "Epoch: 11\n"
     ]
    },
    {
     "name": "stderr",
     "output_type": "stream",
     "text": [
      "[11/20] Loss: 0.2096, Acc: 93.7500: 100%|███████████████████████████████████████████████████| 782/782 [00:30<00:00, 26.00step/s]\n"
     ]
    },
    {
     "name": "stdout",
     "output_type": "stream",
     "text": [
      "\n",
      "Epoch: 12\n"
     ]
    },
    {
     "name": "stderr",
     "output_type": "stream",
     "text": [
      "[12/20] Loss: 0.0942, Acc: 100.0000: 100%|██████████████████████████████████████████████████| 782/782 [00:30<00:00, 25.96step/s]\n"
     ]
    },
    {
     "name": "stdout",
     "output_type": "stream",
     "text": [
      "\n",
      "Epoch: 13\n"
     ]
    },
    {
     "name": "stderr",
     "output_type": "stream",
     "text": [
      "[13/20] Loss: 1.6981, Acc: 62.5000: 100%|███████████████████████████████████████████████████| 782/782 [00:30<00:00, 26.03step/s]\n"
     ]
    },
    {
     "name": "stdout",
     "output_type": "stream",
     "text": [
      "\n",
      "Epoch: 14\n"
     ]
    },
    {
     "name": "stderr",
     "output_type": "stream",
     "text": [
      "[14/20] Loss: 0.4206, Acc: 81.2500: 100%|███████████████████████████████████████████████████| 782/782 [00:29<00:00, 26.21step/s]\n"
     ]
    },
    {
     "name": "stdout",
     "output_type": "stream",
     "text": [
      "\n",
      "Epoch: 15\n"
     ]
    },
    {
     "name": "stderr",
     "output_type": "stream",
     "text": [
      "[15/20] Loss: 0.0434, Acc: 100.0000: 100%|██████████████████████████████████████████████████| 782/782 [00:30<00:00, 26.06step/s]\n"
     ]
    },
    {
     "name": "stdout",
     "output_type": "stream",
     "text": [
      "\n",
      "Epoch: 16\n"
     ]
    },
    {
     "name": "stderr",
     "output_type": "stream",
     "text": [
      "[16/20] Loss: 0.3548, Acc: 93.7500: 100%|███████████████████████████████████████████████████| 782/782 [00:30<00:00, 25.90step/s]\n"
     ]
    },
    {
     "name": "stdout",
     "output_type": "stream",
     "text": [
      "\n",
      "Epoch: 17\n"
     ]
    },
    {
     "name": "stderr",
     "output_type": "stream",
     "text": [
      "[17/20] Loss: 0.2138, Acc: 87.5000: 100%|███████████████████████████████████████████████████| 782/782 [00:30<00:00, 25.90step/s]\n"
     ]
    },
    {
     "name": "stdout",
     "output_type": "stream",
     "text": [
      "\n",
      "Epoch: 18\n"
     ]
    },
    {
     "name": "stderr",
     "output_type": "stream",
     "text": [
      "[18/20] Loss: 0.9549, Acc: 75.0000: 100%|███████████████████████████████████████████████████| 782/782 [00:30<00:00, 25.90step/s]\n"
     ]
    },
    {
     "name": "stdout",
     "output_type": "stream",
     "text": [
      "\n",
      "Epoch: 19\n"
     ]
    },
    {
     "name": "stderr",
     "output_type": "stream",
     "text": [
      "[19/20] Loss: 0.3386, Acc: 93.7500: 100%|███████████████████████████████████████████████████| 782/782 [00:30<00:00, 25.93step/s]\n"
     ]
    },
    {
     "name": "stdout",
     "output_type": "stream",
     "text": [
      "\n",
      "Epoch: 20\n"
     ]
    },
    {
     "name": "stderr",
     "output_type": "stream",
     "text": [
      "[20/20] Loss: 0.0900, Acc: 100.0000: 100%|██████████████████████████████████████████████████| 782/782 [00:30<00:00, 26.00step/s]\n"
     ]
    }
   ],
   "source": [
    "n_epochs = 20\n",
    "for epoch in range(1, n_epochs + 1):\n",
    "    train(epoch)\n",
    "    scheduler.step()\n",
    "torch.save(net.state_dict(),'./ciphar2.pth')"
   ]
  },
  {
   "cell_type": "code",
   "execution_count": 10,
   "id": "85632432",
   "metadata": {},
   "outputs": [],
   "source": [
    "def test():\n",
    "    net.eval()\n",
    "    test_loss = 0\n",
    "    total_size = 0\n",
    "    total_correct = 0\n",
    "    processBar = tqdm(testloader,unit = 'step')\n",
    "    with torch.no_grad():\n",
    "        for batch_idx, (X_image, y_label) in enumerate(processBar):\n",
    "            X_image, y_label = X_image.to(device), y_label.to(device)\n",
    "            outputs = net(X_image)\n",
    "            loss = criterion(outputs, y_label)\n",
    "\n",
    "            test_loss += loss.item()\n",
    "            total_size += y_label.size(0)\n",
    "            predictions = torch.argmax(outputs, dim = 1)\n",
    "            total = y_label.size(0)\n",
    "            correct = torch.sum(predictions == y_label)\n",
    "            total_correct += correct\n",
    "            processBar.set_description(\"[%d/%d] Loss: %.4f, Acc: %.4f\" % \n",
    "                                        (epoch,n_epochs,loss.item(),100.*correct/total))\n",
    "    processBar.set_description(\"[%d/%d] Loss: %.4f, Acc: %.4f\" % \n",
    "                                        (epoch,n_epochs,test_loss,100.*total_correct/total_size))"
   ]
  },
  {
   "cell_type": "code",
   "execution_count": 11,
   "id": "26d98a31",
   "metadata": {},
   "outputs": [
    {
     "name": "stderr",
     "output_type": "stream",
     "text": [
      "[20/20] Loss: 0.2919, Acc: 93.7500: 100%|███████████████████████████████████████████████████| 157/157 [00:02<00:00, 65.79step/s]\n"
     ]
    }
   ],
   "source": [
    "test()"
   ]
  },
  {
   "cell_type": "markdown",
   "id": "035be1ce",
   "metadata": {},
   "source": [
    "1. Yes, neural networks can be used with un supervised learning and dimension reduction, this can be achieved through the use of auto-encoders, which is usually used to pre-train models.\n",
    "2. Neural networks can learn and model both non-linear and complex relationships, and can manage the relationship between inputs and outputs in a relatively simple way. Can be trained continuously to improve their performances.\n",
    "3. When training time is not sufficient and computing resources are not enough, they can't be trained properly and might perform very badly.\n",
    "4. Neural networks need large amount of data to be trained, and if data-set is sufficiently large it is a good candidate for classification problems."
   ]
  },
  {
   "attachments": {},
   "cell_type": "markdown",
   "id": "1b6f763a",
   "metadata": {},
   "source": []
  }
 ],
 "metadata": {
  "kernelspec": {
   "display_name": "Python 3 (ipykernel)",
   "language": "python",
   "name": "python3"
  },
  "language_info": {
   "codemirror_mode": {
    "name": "ipython",
    "version": 3
   },
   "file_extension": ".py",
   "mimetype": "text/x-python",
   "name": "python",
   "nbconvert_exporter": "python",
   "pygments_lexer": "ipython3",
   "version": "3.9.13"
  }
 },
 "nbformat": 4,
 "nbformat_minor": 5
}
