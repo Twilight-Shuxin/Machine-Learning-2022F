{
 "cells": [
  {
   "cell_type": "markdown",
   "metadata": {},
   "source": [
    "#### Lab 10"
   ]
  },
  {
   "cell_type": "markdown",
   "metadata": {},
   "source": [
    "1. No, SVM is not suitable for un-supervised learning.\n",
    "2. SVM works well with data-set when there is a clear margin of separation between classes.\n",
    "3. SVM does not work well with data when there is a lot of noises.\n",
    "4. If the data has a clear margin of separation between classes, SVM would be a good candidate. However if data points of different classes are interactively scattered, then SVM might not work well."
   ]
  }
 ],
 "metadata": {
  "kernelspec": {
   "display_name": "Python 3.9.5 ('base')",
   "language": "python",
   "name": "python3"
  },
  "language_info": {
   "name": "python",
   "version": "3.9.5"
  },
  "orig_nbformat": 4,
  "vscode": {
   "interpreter": {
    "hash": "19d1d53a962d236aa061289c2ac16dc8e6d9648c89fe79f459ae9a3493bc67b4"
   }
  }
 },
 "nbformat": 4,
 "nbformat_minor": 2
}
